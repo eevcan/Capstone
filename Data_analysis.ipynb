{
 "cells": [
  {
   "cell_type": "code",
   "execution_count": 3,
   "id": "4433ef12-5d4a-4c54-a842-70aa1128a029",
   "metadata": {},
   "outputs": [],
   "source": [
    "import numpy as np\n",
    "import pandas as pd\n",
    "import seaborn as sns\n",
    "import warnings\n",
    "import matplotlib\n",
    "import matplotlib.pyplot as plt\n",
    "\n",
    "def set_pandas_display_options(max_rows=50, max_columns=50):\n",
    "    \"\"\"\n",
    "    Sets the pandas display options for showing the number of rows and columns.\n",
    "    \n",
    "    Parameters:\n",
    "    max_rows (int): The maximum number of rows to display in the DataFrame.\n",
    "    max_columns (int): The maximum number of columns to display in the DataFrame.\n",
    "    \"\"\"\n",
    "    pd.set_option('display.max_rows', max_rows)\n",
    "    pd.set_option('display.max_columns', max_columns)\n",
    "\n",
    "def suppress_warnings():\n",
    "    \"\"\"\n",
    "    Suppresses warnings to avoid clutter in the output.\n",
    "    \"\"\"\n",
    "    warnings.filterwarnings('ignore')\n",
    "\n",
    "def initialize_plotting():\n",
    "    \"\"\"\n",
    "    Initializes matplotlib and seaborn settings for better visualizations.\n",
    "    \"\"\"\n",
    "    sns.set(style=\"whitegrid\")\n",
    "    matplotlib.rcParams['figure.figsize'] = (10, 6)\n",
    "\n",
    "# Example of calling the functions\n",
    "set_pandas_display_options()\n",
    "suppress_warnings()\n",
    "initialize_plotting()"
   ]
  },
  {
   "cell_type": "code",
   "execution_count": 4,
   "id": "26ae9955",
   "metadata": {},
   "outputs": [
    {
     "data": {
      "text/html": [
       "<div>\n",
       "<style scoped>\n",
       "    .dataframe tbody tr th:only-of-type {\n",
       "        vertical-align: middle;\n",
       "    }\n",
       "\n",
       "    .dataframe tbody tr th {\n",
       "        vertical-align: top;\n",
       "    }\n",
       "\n",
       "    .dataframe thead th {\n",
       "        text-align: right;\n",
       "    }\n",
       "</style>\n",
       "<table border=\"1\" class=\"dataframe\">\n",
       "  <thead>\n",
       "    <tr style=\"text-align: right;\">\n",
       "      <th></th>\n",
       "      <th>cardFinish</th>\n",
       "      <th>currency</th>\n",
       "      <th>date</th>\n",
       "      <th>gameAvailability</th>\n",
       "      <th>price</th>\n",
       "      <th>priceProvider</th>\n",
       "      <th>providerListing</th>\n",
       "      <th>uuid</th>\n",
       "      <th>artist</th>\n",
       "      <th>artistIds</th>\n",
       "      <th>asciiName</th>\n",
       "      <th>attractionLights</th>\n",
       "      <th>availability</th>\n",
       "      <th>boosterTypes</th>\n",
       "      <th>borderColor</th>\n",
       "      <th>cardParts</th>\n",
       "      <th>colorIdentity</th>\n",
       "      <th>colorIndicator</th>\n",
       "      <th>colors</th>\n",
       "      <th>defense</th>\n",
       "      <th>duelDeck</th>\n",
       "      <th>edhrecRank</th>\n",
       "      <th>edhrecSaltiness</th>\n",
       "      <th>faceConvertedManaCost</th>\n",
       "      <th>faceFlavorName</th>\n",
       "      <th>...</th>\n",
       "      <th>originalPrintings</th>\n",
       "      <th>originalReleaseDate</th>\n",
       "      <th>originalText</th>\n",
       "      <th>originalType</th>\n",
       "      <th>otherFaceIds</th>\n",
       "      <th>power</th>\n",
       "      <th>printings</th>\n",
       "      <th>promoTypes</th>\n",
       "      <th>rarity</th>\n",
       "      <th>rebalancedPrintings</th>\n",
       "      <th>relatedCards</th>\n",
       "      <th>securityStamp</th>\n",
       "      <th>setCode</th>\n",
       "      <th>side</th>\n",
       "      <th>signature</th>\n",
       "      <th>sourceProducts</th>\n",
       "      <th>subsets</th>\n",
       "      <th>subtypes</th>\n",
       "      <th>supertypes</th>\n",
       "      <th>text</th>\n",
       "      <th>toughness</th>\n",
       "      <th>type</th>\n",
       "      <th>types</th>\n",
       "      <th>variations</th>\n",
       "      <th>watermark</th>\n",
       "    </tr>\n",
       "  </thead>\n",
       "  <tbody>\n",
       "    <tr>\n",
       "      <th>0</th>\n",
       "      <td>normal</td>\n",
       "      <td>USD</td>\n",
       "      <td>2025-03-28</td>\n",
       "      <td>mtgo</td>\n",
       "      <td>0.27</td>\n",
       "      <td>cardhoarder</td>\n",
       "      <td>retail</td>\n",
       "      <td>f182e364-0439-5594-a6e6-75f7889ccf45</td>\n",
       "      <td>UDON</td>\n",
       "      <td>1aa5b0cc-259b-40f0-b236-6866876b917a</td>\n",
       "      <td>NaN</td>\n",
       "      <td>NaN</td>\n",
       "      <td>mtgo</td>\n",
       "      <td>NaN</td>\n",
       "      <td>black</td>\n",
       "      <td>NaN</td>\n",
       "      <td>NaN</td>\n",
       "      <td>NaN</td>\n",
       "      <td>NaN</td>\n",
       "      <td>NaN</td>\n",
       "      <td>NaN</td>\n",
       "      <td>NaN</td>\n",
       "      <td>NaN</td>\n",
       "      <td>NaN</td>\n",
       "      <td>NaN</td>\n",
       "      <td>...</td>\n",
       "      <td>NaN</td>\n",
       "      <td>NaN</td>\n",
       "      <td>Whenever you cast a creature spell, you may pa...</td>\n",
       "      <td>Vanguard</td>\n",
       "      <td>NaN</td>\n",
       "      <td>NaN</td>\n",
       "      <td>PMOA</td>\n",
       "      <td>NaN</td>\n",
       "      <td>rare</td>\n",
       "      <td>NaN</td>\n",
       "      <td>NaN</td>\n",
       "      <td>NaN</td>\n",
       "      <td>PMOA</td>\n",
       "      <td>NaN</td>\n",
       "      <td>NaN</td>\n",
       "      <td>NaN</td>\n",
       "      <td>NaN</td>\n",
       "      <td>NaN</td>\n",
       "      <td>NaN</td>\n",
       "      <td>Whenever you cast a creature spell, you may pa...</td>\n",
       "      <td>NaN</td>\n",
       "      <td>Vanguard</td>\n",
       "      <td>Vanguard</td>\n",
       "      <td>NaN</td>\n",
       "      <td>NaN</td>\n",
       "    </tr>\n",
       "    <tr>\n",
       "      <th>1</th>\n",
       "      <td>normal</td>\n",
       "      <td>USD</td>\n",
       "      <td>2025-03-28</td>\n",
       "      <td>mtgo</td>\n",
       "      <td>0.53</td>\n",
       "      <td>cardhoarder</td>\n",
       "      <td>retail</td>\n",
       "      <td>330deaa3-dd7a-52a8-bfbc-b323cd16a409</td>\n",
       "      <td>UDON</td>\n",
       "      <td>1aa5b0cc-259b-40f0-b236-6866876b917a</td>\n",
       "      <td>NaN</td>\n",
       "      <td>NaN</td>\n",
       "      <td>mtgo</td>\n",
       "      <td>NaN</td>\n",
       "      <td>black</td>\n",
       "      <td>NaN</td>\n",
       "      <td>NaN</td>\n",
       "      <td>NaN</td>\n",
       "      <td>NaN</td>\n",
       "      <td>NaN</td>\n",
       "      <td>NaN</td>\n",
       "      <td>NaN</td>\n",
       "      <td>NaN</td>\n",
       "      <td>NaN</td>\n",
       "      <td>NaN</td>\n",
       "      <td>...</td>\n",
       "      <td>NaN</td>\n",
       "      <td>NaN</td>\n",
       "      <td>Whenever a creature you control is put into a ...</td>\n",
       "      <td>Vanguard</td>\n",
       "      <td>NaN</td>\n",
       "      <td>NaN</td>\n",
       "      <td>PMOA</td>\n",
       "      <td>NaN</td>\n",
       "      <td>rare</td>\n",
       "      <td>NaN</td>\n",
       "      <td>NaN</td>\n",
       "      <td>NaN</td>\n",
       "      <td>PMOA</td>\n",
       "      <td>NaN</td>\n",
       "      <td>NaN</td>\n",
       "      <td>NaN</td>\n",
       "      <td>NaN</td>\n",
       "      <td>NaN</td>\n",
       "      <td>NaN</td>\n",
       "      <td>Whenever a creature you control dies, target o...</td>\n",
       "      <td>NaN</td>\n",
       "      <td>Vanguard</td>\n",
       "      <td>Vanguard</td>\n",
       "      <td>NaN</td>\n",
       "      <td>NaN</td>\n",
       "    </tr>\n",
       "    <tr>\n",
       "      <th>2</th>\n",
       "      <td>normal</td>\n",
       "      <td>USD</td>\n",
       "      <td>2025-03-28</td>\n",
       "      <td>mtgo</td>\n",
       "      <td>0.02</td>\n",
       "      <td>cardhoarder</td>\n",
       "      <td>retail</td>\n",
       "      <td>79e36956-b91f-580f-8309-7d9585a67560</td>\n",
       "      <td>UDON</td>\n",
       "      <td>1aa5b0cc-259b-40f0-b236-6866876b917a</td>\n",
       "      <td>NaN</td>\n",
       "      <td>NaN</td>\n",
       "      <td>mtgo</td>\n",
       "      <td>NaN</td>\n",
       "      <td>black</td>\n",
       "      <td>NaN</td>\n",
       "      <td>NaN</td>\n",
       "      <td>NaN</td>\n",
       "      <td>NaN</td>\n",
       "      <td>NaN</td>\n",
       "      <td>NaN</td>\n",
       "      <td>NaN</td>\n",
       "      <td>NaN</td>\n",
       "      <td>NaN</td>\n",
       "      <td>NaN</td>\n",
       "      <td>...</td>\n",
       "      <td>NaN</td>\n",
       "      <td>NaN</td>\n",
       "      <td>Whenever a nontoken creature enters the battle...</td>\n",
       "      <td>Vanguard</td>\n",
       "      <td>NaN</td>\n",
       "      <td>NaN</td>\n",
       "      <td>PMOA</td>\n",
       "      <td>NaN</td>\n",
       "      <td>rare</td>\n",
       "      <td>NaN</td>\n",
       "      <td>NaN</td>\n",
       "      <td>NaN</td>\n",
       "      <td>PMOA</td>\n",
       "      <td>NaN</td>\n",
       "      <td>NaN</td>\n",
       "      <td>NaN</td>\n",
       "      <td>NaN</td>\n",
       "      <td>NaN</td>\n",
       "      <td>NaN</td>\n",
       "      <td>Whenever a nontoken creature you control enter...</td>\n",
       "      <td>NaN</td>\n",
       "      <td>Vanguard</td>\n",
       "      <td>Vanguard</td>\n",
       "      <td>NaN</td>\n",
       "      <td>NaN</td>\n",
       "    </tr>\n",
       "    <tr>\n",
       "      <th>3</th>\n",
       "      <td>normal</td>\n",
       "      <td>USD</td>\n",
       "      <td>2025-03-28</td>\n",
       "      <td>mtgo</td>\n",
       "      <td>0.29</td>\n",
       "      <td>cardhoarder</td>\n",
       "      <td>retail</td>\n",
       "      <td>6afb2b4c-530a-57d5-8e7f-871239f6fa05</td>\n",
       "      <td>UDON</td>\n",
       "      <td>1aa5b0cc-259b-40f0-b236-6866876b917a</td>\n",
       "      <td>NaN</td>\n",
       "      <td>NaN</td>\n",
       "      <td>mtgo</td>\n",
       "      <td>NaN</td>\n",
       "      <td>black</td>\n",
       "      <td>NaN</td>\n",
       "      <td>NaN</td>\n",
       "      <td>NaN</td>\n",
       "      <td>NaN</td>\n",
       "      <td>NaN</td>\n",
       "      <td>NaN</td>\n",
       "      <td>NaN</td>\n",
       "      <td>NaN</td>\n",
       "      <td>NaN</td>\n",
       "      <td>NaN</td>\n",
       "      <td>...</td>\n",
       "      <td>NaN</td>\n",
       "      <td>NaN</td>\n",
       "      <td>Pay 1 life: Until end of turn, whenever a crea...</td>\n",
       "      <td>Vanguard</td>\n",
       "      <td>NaN</td>\n",
       "      <td>NaN</td>\n",
       "      <td>PMOA</td>\n",
       "      <td>NaN</td>\n",
       "      <td>rare</td>\n",
       "      <td>NaN</td>\n",
       "      <td>NaN</td>\n",
       "      <td>NaN</td>\n",
       "      <td>PMOA</td>\n",
       "      <td>NaN</td>\n",
       "      <td>NaN</td>\n",
       "      <td>NaN</td>\n",
       "      <td>NaN</td>\n",
       "      <td>NaN</td>\n",
       "      <td>NaN</td>\n",
       "      <td>Pay 1 life: Until end of turn, whenever a crea...</td>\n",
       "      <td>NaN</td>\n",
       "      <td>Vanguard</td>\n",
       "      <td>Vanguard</td>\n",
       "      <td>NaN</td>\n",
       "      <td>NaN</td>\n",
       "    </tr>\n",
       "    <tr>\n",
       "      <th>4</th>\n",
       "      <td>normal</td>\n",
       "      <td>USD</td>\n",
       "      <td>2025-03-28</td>\n",
       "      <td>mtgo</td>\n",
       "      <td>0.02</td>\n",
       "      <td>cardhoarder</td>\n",
       "      <td>retail</td>\n",
       "      <td>b1fc2762-92aa-5a14-8509-a59cb611e376</td>\n",
       "      <td>UDON</td>\n",
       "      <td>1aa5b0cc-259b-40f0-b236-6866876b917a</td>\n",
       "      <td>NaN</td>\n",
       "      <td>NaN</td>\n",
       "      <td>mtgo</td>\n",
       "      <td>NaN</td>\n",
       "      <td>black</td>\n",
       "      <td>NaN</td>\n",
       "      <td>NaN</td>\n",
       "      <td>NaN</td>\n",
       "      <td>NaN</td>\n",
       "      <td>NaN</td>\n",
       "      <td>NaN</td>\n",
       "      <td>NaN</td>\n",
       "      <td>NaN</td>\n",
       "      <td>NaN</td>\n",
       "      <td>NaN</td>\n",
       "      <td>...</td>\n",
       "      <td>NaN</td>\n",
       "      <td>NaN</td>\n",
       "      <td>Whenever a creature enters the battlefield und...</td>\n",
       "      <td>Vanguard</td>\n",
       "      <td>NaN</td>\n",
       "      <td>NaN</td>\n",
       "      <td>PMOA</td>\n",
       "      <td>NaN</td>\n",
       "      <td>rare</td>\n",
       "      <td>NaN</td>\n",
       "      <td>NaN</td>\n",
       "      <td>NaN</td>\n",
       "      <td>PMOA</td>\n",
       "      <td>NaN</td>\n",
       "      <td>NaN</td>\n",
       "      <td>NaN</td>\n",
       "      <td>NaN</td>\n",
       "      <td>NaN</td>\n",
       "      <td>NaN</td>\n",
       "      <td>Whenever a creature you control enters, it gai...</td>\n",
       "      <td>NaN</td>\n",
       "      <td>Vanguard</td>\n",
       "      <td>Vanguard</td>\n",
       "      <td>NaN</td>\n",
       "      <td>NaN</td>\n",
       "    </tr>\n",
       "  </tbody>\n",
       "</table>\n",
       "<p>5 rows × 86 columns</p>\n",
       "</div>"
      ],
      "text/plain": [
       "  cardFinish currency        date gameAvailability  price priceProvider  \\\n",
       "0     normal      USD  2025-03-28             mtgo   0.27   cardhoarder   \n",
       "1     normal      USD  2025-03-28             mtgo   0.53   cardhoarder   \n",
       "2     normal      USD  2025-03-28             mtgo   0.02   cardhoarder   \n",
       "3     normal      USD  2025-03-28             mtgo   0.29   cardhoarder   \n",
       "4     normal      USD  2025-03-28             mtgo   0.02   cardhoarder   \n",
       "\n",
       "  providerListing                                  uuid artist  \\\n",
       "0          retail  f182e364-0439-5594-a6e6-75f7889ccf45   UDON   \n",
       "1          retail  330deaa3-dd7a-52a8-bfbc-b323cd16a409   UDON   \n",
       "2          retail  79e36956-b91f-580f-8309-7d9585a67560   UDON   \n",
       "3          retail  6afb2b4c-530a-57d5-8e7f-871239f6fa05   UDON   \n",
       "4          retail  b1fc2762-92aa-5a14-8509-a59cb611e376   UDON   \n",
       "\n",
       "                              artistIds asciiName attractionLights  \\\n",
       "0  1aa5b0cc-259b-40f0-b236-6866876b917a       NaN              NaN   \n",
       "1  1aa5b0cc-259b-40f0-b236-6866876b917a       NaN              NaN   \n",
       "2  1aa5b0cc-259b-40f0-b236-6866876b917a       NaN              NaN   \n",
       "3  1aa5b0cc-259b-40f0-b236-6866876b917a       NaN              NaN   \n",
       "4  1aa5b0cc-259b-40f0-b236-6866876b917a       NaN              NaN   \n",
       "\n",
       "  availability boosterTypes borderColor cardParts colorIdentity  \\\n",
       "0         mtgo          NaN       black       NaN           NaN   \n",
       "1         mtgo          NaN       black       NaN           NaN   \n",
       "2         mtgo          NaN       black       NaN           NaN   \n",
       "3         mtgo          NaN       black       NaN           NaN   \n",
       "4         mtgo          NaN       black       NaN           NaN   \n",
       "\n",
       "  colorIndicator colors  defense duelDeck  edhrecRank  edhrecSaltiness  \\\n",
       "0            NaN    NaN      NaN      NaN         NaN              NaN   \n",
       "1            NaN    NaN      NaN      NaN         NaN              NaN   \n",
       "2            NaN    NaN      NaN      NaN         NaN              NaN   \n",
       "3            NaN    NaN      NaN      NaN         NaN              NaN   \n",
       "4            NaN    NaN      NaN      NaN         NaN              NaN   \n",
       "\n",
       "   faceConvertedManaCost faceFlavorName  ...  originalPrintings  \\\n",
       "0                    NaN            NaN  ...                NaN   \n",
       "1                    NaN            NaN  ...                NaN   \n",
       "2                    NaN            NaN  ...                NaN   \n",
       "3                    NaN            NaN  ...                NaN   \n",
       "4                    NaN            NaN  ...                NaN   \n",
       "\n",
       "  originalReleaseDate                                       originalText  \\\n",
       "0                 NaN  Whenever you cast a creature spell, you may pa...   \n",
       "1                 NaN  Whenever a creature you control is put into a ...   \n",
       "2                 NaN  Whenever a nontoken creature enters the battle...   \n",
       "3                 NaN  Pay 1 life: Until end of turn, whenever a crea...   \n",
       "4                 NaN  Whenever a creature enters the battlefield und...   \n",
       "\n",
       "  originalType otherFaceIds power printings  promoTypes rarity  \\\n",
       "0     Vanguard          NaN   NaN      PMOA         NaN   rare   \n",
       "1     Vanguard          NaN   NaN      PMOA         NaN   rare   \n",
       "2     Vanguard          NaN   NaN      PMOA         NaN   rare   \n",
       "3     Vanguard          NaN   NaN      PMOA         NaN   rare   \n",
       "4     Vanguard          NaN   NaN      PMOA         NaN   rare   \n",
       "\n",
       "  rebalancedPrintings relatedCards securityStamp setCode side signature  \\\n",
       "0                 NaN          NaN           NaN    PMOA  NaN       NaN   \n",
       "1                 NaN          NaN           NaN    PMOA  NaN       NaN   \n",
       "2                 NaN          NaN           NaN    PMOA  NaN       NaN   \n",
       "3                 NaN          NaN           NaN    PMOA  NaN       NaN   \n",
       "4                 NaN          NaN           NaN    PMOA  NaN       NaN   \n",
       "\n",
       "  sourceProducts subsets subtypes supertypes  \\\n",
       "0            NaN     NaN      NaN        NaN   \n",
       "1            NaN     NaN      NaN        NaN   \n",
       "2            NaN     NaN      NaN        NaN   \n",
       "3            NaN     NaN      NaN        NaN   \n",
       "4            NaN     NaN      NaN        NaN   \n",
       "\n",
       "                                                text toughness      type  \\\n",
       "0  Whenever you cast a creature spell, you may pa...       NaN  Vanguard   \n",
       "1  Whenever a creature you control dies, target o...       NaN  Vanguard   \n",
       "2  Whenever a nontoken creature you control enter...       NaN  Vanguard   \n",
       "3  Pay 1 life: Until end of turn, whenever a crea...       NaN  Vanguard   \n",
       "4  Whenever a creature you control enters, it gai...       NaN  Vanguard   \n",
       "\n",
       "      types variations watermark  \n",
       "0  Vanguard        NaN       NaN  \n",
       "1  Vanguard        NaN       NaN  \n",
       "2  Vanguard        NaN       NaN  \n",
       "3  Vanguard        NaN       NaN  \n",
       "4  Vanguard        NaN       NaN  \n",
       "\n",
       "[5 rows x 86 columns]"
      ]
     },
     "execution_count": 4,
     "metadata": {},
     "output_type": "execute_result"
    }
   ],
   "source": [
    "import pandas as pd\n",
    "\n",
    "# CSV-Dateien laden (achte darauf, den richtigen Pfad zu verwenden)\n",
    "df1 = pd.read_csv(r\"C:\\Users\\eev\\Documents\\Udacity\\cardcosts\\data\\cards.csv\", dtype={\"uuid\": str})\n",
    "df2 = pd.read_csv(r\"C:\\Users\\eev\\Documents\\Udacity\\cardcosts\\data\\cardPrices.csv\", dtype={\"uuid\": str})\n",
    "\n",
    "# Sicherstellen, dass uuid keine Leerzeichen enthält\n",
    "df1[\"uuid\"] = df1[\"uuid\"].str.strip()\n",
    "df2[\"uuid\"] = df2[\"uuid\"].str.strip()\n",
    "\n",
    "# Left Join auf \"uuid\"\n",
    "merged_df = df2.merge(df1, on=\"uuid\", how=\"left\")\n",
    "\n",
    "# Ergebnis anzeigen\n",
    "merged_df.head(5)"
   ]
  },
  {
   "cell_type": "markdown",
   "id": "2b7f01d7",
   "metadata": {},
   "source": [
    "# 1 Business Understanding\n",
    "\n",
    "What do i want, i need data for a website thats checking cards by name and asking for values like whatsd the cost, color, text, artist and more. <br>\n",
    "This data is crucial for the Website project and i will need to get all of this information<br>\n",
    "Luckily itrs contained in the csv files i got online<br>"
   ]
  },
  {
   "cell_type": "markdown",
   "id": "aa424c1f",
   "metadata": {},
   "source": [
    "# Question 1\n",
    "\n",
    "How many Type of cards do exist and are they unique?\n",
    "# Question 2\n",
    "\n",
    "Does it matter when they came out? and are there any dupllicates?\n",
    "\n",
    "# Question 3\n",
    "Does the Rarity Type matter?"
   ]
  },
  {
   "cell_type": "code",
   "execution_count": 5,
   "id": "70645bc8-c6bc-45ce-81fc-450bd740df9c",
   "metadata": {},
   "outputs": [
    {
     "name": "stdout",
     "output_type": "stream",
     "text": [
      "['artist', 'artistIds', 'asciiName', 'attractionLights', 'availability', 'boosterTypes', 'borderColor', 'cardParts', 'colorIdentity', 'colorIndicator', 'colors', 'defense', 'duelDeck', 'edhrecRank', 'edhrecSaltiness', 'faceConvertedManaCost', 'faceFlavorName', 'faceManaValue', 'faceName', 'finishes', 'flavorName', 'flavorText', 'frameEffects', 'frameVersion', 'hand', 'hasAlternativeDeckLimit', 'hasContentWarning', 'hasFoil', 'hasNonFoil', 'isAlternative', 'isFullArt', 'isFunny', 'isGameChanger', 'isOnlineOnly', 'isOversized', 'isPromo', 'isRebalanced', 'isReprint', 'isReserved', 'isStarter', 'isStorySpotlight', 'isTextless', 'isTimeshifted', 'keywords', 'language', 'layout', 'leadershipSkills', 'life', 'loyalty', 'manaCost', 'manaValue', 'name', 'number', 'originalPrintings', 'originalReleaseDate', 'originalText', 'originalType', 'otherFaceIds', 'power', 'printings', 'promoTypes', 'rarity', 'rebalancedPrintings', 'relatedCards', 'securityStamp', 'setCode', 'side', 'signature', 'sourceProducts', 'subsets', 'subtypes', 'supertypes', 'text', 'toughness', 'type', 'types', 'uuid', 'variations', 'watermark']\n"
     ]
    }
   ],
   "source": [
    "print(df1.columns.tolist())"
   ]
  },
  {
   "cell_type": "code",
   "execution_count": 6,
   "id": "b0ef3233-559b-4f76-a218-e7f07608a956",
   "metadata": {},
   "outputs": [
    {
     "name": "stdout",
     "output_type": "stream",
     "text": [
      "['cardFinish', 'currency', 'date', 'gameAvailability', 'price', 'priceProvider', 'providerListing', 'uuid']\n"
     ]
    }
   ],
   "source": [
    "print(df2.columns.tolist())"
   ]
  },
  {
   "cell_type": "markdown",
   "id": "26bd73b4",
   "metadata": {},
   "source": [
    "\n",
    "# 2 Data Understanding\n",
    "\n",
    "I will be needing following Infos for the Thesis: Price, Name, UUID, artist anything. <br> \n",
    "the most important thing first is to find something both data sets have so im able to merge them flawless\n"
   ]
  },
  {
   "cell_type": "code",
   "execution_count": 21,
   "id": "d325de1c-506e-48b0-a44e-4cf99ec4a446",
   "metadata": {},
   "outputs": [
    {
     "name": "stdout",
     "output_type": "stream",
     "text": [
      "         defense    edhrecRank  edhrecSaltiness  faceConvertedManaCost  \\\n",
      "count  55.000000  94605.000000     71370.000000            3929.000000   \n",
      "mean    4.654545  10652.675059         0.366423               2.270807   \n",
      "std     1.004032   8498.296085         0.354527               2.001391   \n",
      "min     3.000000      1.000000         0.010000               0.000000   \n",
      "25%     4.000000   2925.000000         0.120000               0.000000   \n",
      "50%     4.000000   8969.000000         0.260000               2.000000   \n",
      "75%     5.000000  17452.000000         0.480000               4.000000   \n",
      "max     7.000000  28779.000000         3.120000              11.000000   \n",
      "\n",
      "       faceManaValue        hand        life       manaValue  \n",
      "count    3929.000000  119.000000  119.000000   102689.000000  \n",
      "mean        2.270807    0.084034    1.084034       22.476064  \n",
      "std         2.001391    1.211385    5.683130     4413.159887  \n",
      "min         0.000000   -4.000000   -8.000000        0.000000  \n",
      "25%         0.000000   -1.000000   -3.000000        2.000000  \n",
      "50%         2.000000    0.000000    0.000000        3.000000  \n",
      "75%         4.000000    1.000000    4.000000        4.000000  \n",
      "max        11.000000    3.000000   30.000000  1000000.000000  \n"
     ]
    }
   ],
   "source": [
    "df1.head(5)\n",
    "print(df1.describe())"
   ]
  },
  {
   "cell_type": "code",
   "execution_count": 22,
   "id": "4dacdf75",
   "metadata": {},
   "outputs": [
    {
     "name": "stdout",
     "output_type": "stream",
     "text": [
      "               price\n",
      "count  596640.000000\n",
      "mean        7.851745\n",
      "std       213.647591\n",
      "min         0.010000\n",
      "25%         0.150000\n",
      "50%         0.380000\n",
      "75%         1.600000\n",
      "max     65000.000000\n"
     ]
    }
   ],
   "source": [
    "df2.head(5)\n",
    "print(df2.describe())"
   ]
  },
  {
   "cell_type": "code",
   "execution_count": 25,
   "id": "5c6e3366",
   "metadata": {},
   "outputs": [
    {
     "name": "stdout",
     "output_type": "stream",
     "text": [
      "['artist', 'artistIds', 'asciiName', 'attractionLights', 'availability', 'boosterTypes', 'borderColor', 'cardParts', 'colorIdentity', 'colorIndicator', 'colors', 'defense', 'duelDeck', 'edhrecRank', 'edhrecSaltiness', 'faceConvertedManaCost', 'faceFlavorName', 'faceManaValue', 'faceName', 'finishes', 'flavorName', 'flavorText', 'frameEffects', 'frameVersion', 'hand', 'hasAlternativeDeckLimit', 'hasContentWarning', 'hasFoil', 'hasNonFoil', 'isAlternative', 'isFullArt', 'isFunny', 'isGameChanger', 'isOnlineOnly', 'isOversized', 'isPromo', 'isRebalanced', 'isReprint', 'isReserved', 'isStarter', 'isStorySpotlight', 'isTextless', 'isTimeshifted', 'keywords', 'language', 'layout', 'leadershipSkills', 'life', 'loyalty', 'manaCost', 'manaValue', 'name', 'number', 'originalPrintings', 'originalReleaseDate', 'originalText', 'originalType', 'otherFaceIds', 'power', 'printings', 'promoTypes', 'rarity', 'rebalancedPrintings', 'relatedCards', 'securityStamp', 'setCode', 'side', 'signature', 'sourceProducts', 'subsets', 'subtypes', 'supertypes', 'text', 'toughness', 'type', 'types', 'uuid', 'variations', 'watermark']\n"
     ]
    }
   ],
   "source": [
    "print(df1.columns.tolist())\n"
   ]
  },
  {
   "cell_type": "code",
   "execution_count": 24,
   "id": "6e2c480c",
   "metadata": {},
   "outputs": [
    {
     "name": "stdout",
     "output_type": "stream",
     "text": [
      "['cardFinish', 'currency', 'date', 'gameAvailability', 'price', 'priceProvider', 'providerListing', 'uuid']\n"
     ]
    }
   ],
   "source": [
    "print(df2.columns.tolist())"
   ]
  },
  {
   "cell_type": "code",
   "execution_count": 10,
   "id": "a24b8d1a-479a-42a8-8ede-c7398ac1c16b",
   "metadata": {},
   "outputs": [
    {
     "name": "stdout",
     "output_type": "stream",
     "text": [
      "Column 'price' exists in merged_df.\n"
     ]
    }
   ],
   "source": [
    "if \"price\" in merged_df.columns:\n",
    "    print(\"Column 'price' exists in merged_df.\")\n",
    "else:\n",
    "    print(\"Column 'price' does not exist in merged_df.\")"
   ]
  },
  {
   "cell_type": "code",
   "execution_count": 12,
   "id": "375080ed-d1fe-47f4-8a34-0653549afde4",
   "metadata": {},
   "outputs": [
    {
     "name": "stdout",
     "output_type": "stream",
     "text": [
      "Shape of DataFrame: (596640, 86)\n"
     ]
    }
   ],
   "source": [
    "def get_dataframe_shape(merged_df):\n",
    "    \"\"\"\n",
    "    Returns the shape of a DataFrame.\n",
    "    \n",
    "    Parameters:\n",
    "    df (pd.DataFrame): The DataFrame whose shape is to be queried.\n",
    "    \n",
    "    Returns:\n",
    "    tuple: A tuple containing the number of rows and columns of the DataFrame.\n",
    "    \"\"\"\n",
    "    return merged_df.shape\n",
    "\n",
    "# Example: Calling the function to get the shape of the DataFrame\n",
    "shape = get_dataframe_shape(merged_df)\n",
    "print(f\"Shape of DataFrame: {shape}\")"
   ]
  },
  {
   "cell_type": "code",
   "execution_count": 32,
   "id": "0e214f04",
   "metadata": {},
   "outputs": [
    {
     "name": "stdout",
     "output_type": "stream",
     "text": [
      "      Missing Values  Existing Values\n",
      "uuid               0           596640\n"
     ]
    }
   ],
   "source": [
    "def count_missing_and_existing_values(merged_df, columns):\n",
    "    \"\"\"\n",
    "    Counts the missing and existing values for the specified columns in the DataFrame.\n",
    "    i only check here for uuid to see if something happened in the merging process\n",
    "    \"\"\"\n",
    "    missing_counts = merged_df[columns].isna().sum()\n",
    "    existing_counts = merged_df[columns].notna().sum()\n",
    "    \n",
    "    return pd.DataFrame({'Missing Values': missing_counts, 'Existing Values': existing_counts})\n",
    "\n",
    "# Example: Calling the function to get missing and existing counts for specific columns\n",
    "columns_to_check = ['uuid']\n",
    "missing_df = count_missing_and_existing_values(merged_df, columns_to_check)\n",
    "print(missing_df)"
   ]
  },
  {
   "cell_type": "markdown",
   "id": "581c2c42",
   "metadata": {},
   "source": [
    "I dont need to eliminate duplicates since there are none\n"
   ]
  },
  {
   "cell_type": "code",
   "execution_count": 34,
   "id": "ab11805d",
   "metadata": {},
   "outputs": [
    {
     "data": {
      "image/png": "[encoded data removed]",
      "text/plain": [
       "<Figure size 1200x800 with 12 Axes>"
      ]
     },
     "metadata": {},
     "output_type": "display_data"
    }
   ],
   "source": [
    "import matplotlib.pyplot as plt\n",
    "merged_df.hist(figsize=(12, 8), bins=30)\n",
    "plt.show()"
   ]
  },
  {
   "cell_type": "markdown",
   "id": "37ee3079-2cee-4dd6-9ede-28be30b1504e",
   "metadata": {},
   "source": []
  },
  {
   "cell_type": "code",
   "execution_count": 13,
   "id": "a8f67239-b79d-41b7-b37c-342f8d716f43",
   "metadata": {},
   "outputs": [
    {
     "data": {
      "text/html": [
       "<div>\n",
       "<style scoped>\n",
       "    .dataframe tbody tr th:only-of-type {\n",
       "        vertical-align: middle;\n",
       "    }\n",
       "\n",
       "    .dataframe tbody tr th {\n",
       "        vertical-align: top;\n",
       "    }\n",
       "\n",
       "    .dataframe thead th {\n",
       "        text-align: right;\n",
       "    }\n",
       "</style>\n",
       "<table border=\"1\" class=\"dataframe\">\n",
       "  <thead>\n",
       "    <tr style=\"text-align: right;\">\n",
       "      <th></th>\n",
       "      <th>cardFinish</th>\n",
       "      <th>currency</th>\n",
       "      <th>date</th>\n",
       "      <th>gameAvailability</th>\n",
       "      <th>price</th>\n",
       "      <th>priceProvider</th>\n",
       "      <th>providerListing</th>\n",
       "      <th>uuid</th>\n",
       "      <th>artist</th>\n",
       "      <th>artistIds</th>\n",
       "      <th>asciiName</th>\n",
       "      <th>attractionLights</th>\n",
       "      <th>availability</th>\n",
       "      <th>boosterTypes</th>\n",
       "      <th>borderColor</th>\n",
       "      <th>cardParts</th>\n",
       "      <th>colorIdentity</th>\n",
       "      <th>colorIndicator</th>\n",
       "      <th>colors</th>\n",
       "      <th>defense</th>\n",
       "      <th>duelDeck</th>\n",
       "      <th>edhrecRank</th>\n",
       "      <th>edhrecSaltiness</th>\n",
       "      <th>faceConvertedManaCost</th>\n",
       "      <th>faceFlavorName</th>\n",
       "      <th>...</th>\n",
       "      <th>originalPrintings</th>\n",
       "      <th>originalReleaseDate</th>\n",
       "      <th>originalText</th>\n",
       "      <th>originalType</th>\n",
       "      <th>otherFaceIds</th>\n",
       "      <th>power</th>\n",
       "      <th>printings</th>\n",
       "      <th>promoTypes</th>\n",
       "      <th>rarity</th>\n",
       "      <th>rebalancedPrintings</th>\n",
       "      <th>relatedCards</th>\n",
       "      <th>securityStamp</th>\n",
       "      <th>setCode</th>\n",
       "      <th>side</th>\n",
       "      <th>signature</th>\n",
       "      <th>sourceProducts</th>\n",
       "      <th>subsets</th>\n",
       "      <th>subtypes</th>\n",
       "      <th>supertypes</th>\n",
       "      <th>text</th>\n",
       "      <th>toughness</th>\n",
       "      <th>type</th>\n",
       "      <th>types</th>\n",
       "      <th>variations</th>\n",
       "      <th>watermark</th>\n",
       "    </tr>\n",
       "  </thead>\n",
       "  <tbody>\n",
       "    <tr>\n",
       "      <th>0</th>\n",
       "      <td>normal</td>\n",
       "      <td>USD</td>\n",
       "      <td>2025-03-28</td>\n",
       "      <td>mtgo</td>\n",
       "      <td>0.27</td>\n",
       "      <td>cardhoarder</td>\n",
       "      <td>retail</td>\n",
       "      <td>f182e364-0439-5594-a6e6-75f7889ccf45</td>\n",
       "      <td>UDON</td>\n",
       "      <td>1aa5b0cc-259b-40f0-b236-6866876b917a</td>\n",
       "      <td>NaN</td>\n",
       "      <td>NaN</td>\n",
       "      <td>mtgo</td>\n",
       "      <td>NaN</td>\n",
       "      <td>black</td>\n",
       "      <td>NaN</td>\n",
       "      <td>NaN</td>\n",
       "      <td>NaN</td>\n",
       "      <td>NaN</td>\n",
       "      <td>NaN</td>\n",
       "      <td>NaN</td>\n",
       "      <td>NaN</td>\n",
       "      <td>NaN</td>\n",
       "      <td>NaN</td>\n",
       "      <td>NaN</td>\n",
       "      <td>...</td>\n",
       "      <td>NaN</td>\n",
       "      <td>NaN</td>\n",
       "      <td>Whenever you cast a creature spell, you may pa...</td>\n",
       "      <td>Vanguard</td>\n",
       "      <td>NaN</td>\n",
       "      <td>NaN</td>\n",
       "      <td>PMOA</td>\n",
       "      <td>NaN</td>\n",
       "      <td>rare</td>\n",
       "      <td>NaN</td>\n",
       "      <td>NaN</td>\n",
       "      <td>NaN</td>\n",
       "      <td>PMOA</td>\n",
       "      <td>NaN</td>\n",
       "      <td>NaN</td>\n",
       "      <td>NaN</td>\n",
       "      <td>NaN</td>\n",
       "      <td>NaN</td>\n",
       "      <td>NaN</td>\n",
       "      <td>Whenever you cast a creature spell, you may pa...</td>\n",
       "      <td>NaN</td>\n",
       "      <td>Vanguard</td>\n",
       "      <td>Vanguard</td>\n",
       "      <td>NaN</td>\n",
       "      <td>NaN</td>\n",
       "    </tr>\n",
       "    <tr>\n",
       "      <th>1</th>\n",
       "      <td>normal</td>\n",
       "      <td>USD</td>\n",
       "      <td>2025-03-28</td>\n",
       "      <td>mtgo</td>\n",
       "      <td>0.53</td>\n",
       "      <td>cardhoarder</td>\n",
       "      <td>retail</td>\n",
       "      <td>330deaa3-dd7a-52a8-bfbc-b323cd16a409</td>\n",
       "      <td>UDON</td>\n",
       "      <td>1aa5b0cc-259b-40f0-b236-6866876b917a</td>\n",
       "      <td>NaN</td>\n",
       "      <td>NaN</td>\n",
       "      <td>mtgo</td>\n",
       "      <td>NaN</td>\n",
       "      <td>black</td>\n",
       "      <td>NaN</td>\n",
       "      <td>NaN</td>\n",
       "      <td>NaN</td>\n",
       "      <td>NaN</td>\n",
       "      <td>NaN</td>\n",
       "      <td>NaN</td>\n",
       "      <td>NaN</td>\n",
       "      <td>NaN</td>\n",
       "      <td>NaN</td>\n",
       "      <td>NaN</td>\n",
       "      <td>...</td>\n",
       "      <td>NaN</td>\n",
       "      <td>NaN</td>\n",
       "      <td>Whenever a creature you control is put into a ...</td>\n",
       "      <td>Vanguard</td>\n",
       "      <td>NaN</td>\n",
       "      <td>NaN</td>\n",
       "      <td>PMOA</td>\n",
       "      <td>NaN</td>\n",
       "      <td>rare</td>\n",
       "      <td>NaN</td>\n",
       "      <td>NaN</td>\n",
       "      <td>NaN</td>\n",
       "      <td>PMOA</td>\n",
       "      <td>NaN</td>\n",
       "      <td>NaN</td>\n",
       "      <td>NaN</td>\n",
       "      <td>NaN</td>\n",
       "      <td>NaN</td>\n",
       "      <td>NaN</td>\n",
       "      <td>Whenever a creature you control dies, target o...</td>\n",
       "      <td>NaN</td>\n",
       "      <td>Vanguard</td>\n",
       "      <td>Vanguard</td>\n",
       "      <td>NaN</td>\n",
       "      <td>NaN</td>\n",
       "    </tr>\n",
       "    <tr>\n",
       "      <th>2</th>\n",
       "      <td>normal</td>\n",
       "      <td>USD</td>\n",
       "      <td>2025-03-28</td>\n",
       "      <td>mtgo</td>\n",
       "      <td>0.02</td>\n",
       "      <td>cardhoarder</td>\n",
       "      <td>retail</td>\n",
       "      <td>79e36956-b91f-580f-8309-7d9585a67560</td>\n",
       "      <td>UDON</td>\n",
       "      <td>1aa5b0cc-259b-40f0-b236-6866876b917a</td>\n",
       "      <td>NaN</td>\n",
       "      <td>NaN</td>\n",
       "      <td>mtgo</td>\n",
       "      <td>NaN</td>\n",
       "      <td>black</td>\n",
       "      <td>NaN</td>\n",
       "      <td>NaN</td>\n",
       "      <td>NaN</td>\n",
       "      <td>NaN</td>\n",
       "      <td>NaN</td>\n",
       "      <td>NaN</td>\n",
       "      <td>NaN</td>\n",
       "      <td>NaN</td>\n",
       "      <td>NaN</td>\n",
       "      <td>NaN</td>\n",
       "      <td>...</td>\n",
       "      <td>NaN</td>\n",
       "      <td>NaN</td>\n",
       "      <td>Whenever a nontoken creature enters the battle...</td>\n",
       "      <td>Vanguard</td>\n",
       "      <td>NaN</td>\n",
       "      <td>NaN</td>\n",
       "      <td>PMOA</td>\n",
       "      <td>NaN</td>\n",
       "      <td>rare</td>\n",
       "      <td>NaN</td>\n",
       "      <td>NaN</td>\n",
       "      <td>NaN</td>\n",
       "      <td>PMOA</td>\n",
       "      <td>NaN</td>\n",
       "      <td>NaN</td>\n",
       "      <td>NaN</td>\n",
       "      <td>NaN</td>\n",
       "      <td>NaN</td>\n",
       "      <td>NaN</td>\n",
       "      <td>Whenever a nontoken creature you control enter...</td>\n",
       "      <td>NaN</td>\n",
       "      <td>Vanguard</td>\n",
       "      <td>Vanguard</td>\n",
       "      <td>NaN</td>\n",
       "      <td>NaN</td>\n",
       "    </tr>\n",
       "    <tr>\n",
       "      <th>3</th>\n",
       "      <td>normal</td>\n",
       "      <td>USD</td>\n",
       "      <td>2025-03-28</td>\n",
       "      <td>mtgo</td>\n",
       "      <td>0.29</td>\n",
       "      <td>cardhoarder</td>\n",
       "      <td>retail</td>\n",
       "      <td>6afb2b4c-530a-57d5-8e7f-871239f6fa05</td>\n",
       "      <td>UDON</td>\n",
       "      <td>1aa5b0cc-259b-40f0-b236-6866876b917a</td>\n",
       "      <td>NaN</td>\n",
       "      <td>NaN</td>\n",
       "      <td>mtgo</td>\n",
       "      <td>NaN</td>\n",
       "      <td>black</td>\n",
       "      <td>NaN</td>\n",
       "      <td>NaN</td>\n",
       "      <td>NaN</td>\n",
       "      <td>NaN</td>\n",
       "      <td>NaN</td>\n",
       "      <td>NaN</td>\n",
       "      <td>NaN</td>\n",
       "      <td>NaN</td>\n",
       "      <td>NaN</td>\n",
       "      <td>NaN</td>\n",
       "      <td>...</td>\n",
       "      <td>NaN</td>\n",
       "      <td>NaN</td>\n",
       "      <td>Pay 1 life: Until end of turn, whenever a crea...</td>\n",
       "      <td>Vanguard</td>\n",
       "      <td>NaN</td>\n",
       "      <td>NaN</td>\n",
       "      <td>PMOA</td>\n",
       "      <td>NaN</td>\n",
       "      <td>rare</td>\n",
       "      <td>NaN</td>\n",
       "      <td>NaN</td>\n",
       "      <td>NaN</td>\n",
       "      <td>PMOA</td>\n",
       "      <td>NaN</td>\n",
       "      <td>NaN</td>\n",
       "      <td>NaN</td>\n",
       "      <td>NaN</td>\n",
       "      <td>NaN</td>\n",
       "      <td>NaN</td>\n",
       "      <td>Pay 1 life: Until end of turn, whenever a crea...</td>\n",
       "      <td>NaN</td>\n",
       "      <td>Vanguard</td>\n",
       "      <td>Vanguard</td>\n",
       "      <td>NaN</td>\n",
       "      <td>NaN</td>\n",
       "    </tr>\n",
       "    <tr>\n",
       "      <th>4</th>\n",
       "      <td>normal</td>\n",
       "      <td>USD</td>\n",
       "      <td>2025-03-28</td>\n",
       "      <td>mtgo</td>\n",
       "      <td>0.02</td>\n",
       "      <td>cardhoarder</td>\n",
       "      <td>retail</td>\n",
       "      <td>b1fc2762-92aa-5a14-8509-a59cb611e376</td>\n",
       "      <td>UDON</td>\n",
       "      <td>1aa5b0cc-259b-40f0-b236-6866876b917a</td>\n",
       "      <td>NaN</td>\n",
       "      <td>NaN</td>\n",
       "      <td>mtgo</td>\n",
       "      <td>NaN</td>\n",
       "      <td>black</td>\n",
       "      <td>NaN</td>\n",
       "      <td>NaN</td>\n",
       "      <td>NaN</td>\n",
       "      <td>NaN</td>\n",
       "      <td>NaN</td>\n",
       "      <td>NaN</td>\n",
       "      <td>NaN</td>\n",
       "      <td>NaN</td>\n",
       "      <td>NaN</td>\n",
       "      <td>NaN</td>\n",
       "      <td>...</td>\n",
       "      <td>NaN</td>\n",
       "      <td>NaN</td>\n",
       "      <td>Whenever a creature enters the battlefield und...</td>\n",
       "      <td>Vanguard</td>\n",
       "      <td>NaN</td>\n",
       "      <td>NaN</td>\n",
       "      <td>PMOA</td>\n",
       "      <td>NaN</td>\n",
       "      <td>rare</td>\n",
       "      <td>NaN</td>\n",
       "      <td>NaN</td>\n",
       "      <td>NaN</td>\n",
       "      <td>PMOA</td>\n",
       "      <td>NaN</td>\n",
       "      <td>NaN</td>\n",
       "      <td>NaN</td>\n",
       "      <td>NaN</td>\n",
       "      <td>NaN</td>\n",
       "      <td>NaN</td>\n",
       "      <td>Whenever a creature you control enters, it gai...</td>\n",
       "      <td>NaN</td>\n",
       "      <td>Vanguard</td>\n",
       "      <td>Vanguard</td>\n",
       "      <td>NaN</td>\n",
       "      <td>NaN</td>\n",
       "    </tr>\n",
       "  </tbody>\n",
       "</table>\n",
       "<p>5 rows × 86 columns</p>\n",
       "</div>"
      ],
      "text/plain": [
       "  cardFinish currency        date gameAvailability  price priceProvider  \\\n",
       "0     normal      USD  2025-03-28             mtgo   0.27   cardhoarder   \n",
       "1     normal      USD  2025-03-28             mtgo   0.53   cardhoarder   \n",
       "2     normal      USD  2025-03-28             mtgo   0.02   cardhoarder   \n",
       "3     normal      USD  2025-03-28             mtgo   0.29   cardhoarder   \n",
       "4     normal      USD  2025-03-28             mtgo   0.02   cardhoarder   \n",
       "\n",
       "  providerListing                                  uuid artist  \\\n",
       "0          retail  f182e364-0439-5594-a6e6-75f7889ccf45   UDON   \n",
       "1          retail  330deaa3-dd7a-52a8-bfbc-b323cd16a409   UDON   \n",
       "2          retail  79e36956-b91f-580f-8309-7d9585a67560   UDON   \n",
       "3          retail  6afb2b4c-530a-57d5-8e7f-871239f6fa05   UDON   \n",
       "4          retail  b1fc2762-92aa-5a14-8509-a59cb611e376   UDON   \n",
       "\n",
       "                              artistIds asciiName attractionLights  \\\n",
       "0  1aa5b0cc-259b-40f0-b236-6866876b917a       NaN              NaN   \n",
       "1  1aa5b0cc-259b-40f0-b236-6866876b917a       NaN              NaN   \n",
       "2  1aa5b0cc-259b-40f0-b236-6866876b917a       NaN              NaN   \n",
       "3  1aa5b0cc-259b-40f0-b236-6866876b917a       NaN              NaN   \n",
       "4  1aa5b0cc-259b-40f0-b236-6866876b917a       NaN              NaN   \n",
       "\n",
       "  availability boosterTypes borderColor cardParts colorIdentity  \\\n",
       "0         mtgo          NaN       black       NaN           NaN   \n",
       "1         mtgo          NaN       black       NaN           NaN   \n",
       "2         mtgo          NaN       black       NaN           NaN   \n",
       "3         mtgo          NaN       black       NaN           NaN   \n",
       "4         mtgo          NaN       black       NaN           NaN   \n",
       "\n",
       "  colorIndicator colors  defense duelDeck  edhrecRank  edhrecSaltiness  \\\n",
       "0            NaN    NaN      NaN      NaN         NaN              NaN   \n",
       "1            NaN    NaN      NaN      NaN         NaN              NaN   \n",
       "2            NaN    NaN      NaN      NaN         NaN              NaN   \n",
       "3            NaN    NaN      NaN      NaN         NaN              NaN   \n",
       "4            NaN    NaN      NaN      NaN         NaN              NaN   \n",
       "\n",
       "   faceConvertedManaCost faceFlavorName  ...  originalPrintings  \\\n",
       "0                    NaN            NaN  ...                NaN   \n",
       "1                    NaN            NaN  ...                NaN   \n",
       "2                    NaN            NaN  ...                NaN   \n",
       "3                    NaN            NaN  ...                NaN   \n",
       "4                    NaN            NaN  ...                NaN   \n",
       "\n",
       "  originalReleaseDate                                       originalText  \\\n",
       "0                 NaN  Whenever you cast a creature spell, you may pa...   \n",
       "1                 NaN  Whenever a creature you control is put into a ...   \n",
       "2                 NaN  Whenever a nontoken creature enters the battle...   \n",
       "3                 NaN  Pay 1 life: Until end of turn, whenever a crea...   \n",
       "4                 NaN  Whenever a creature enters the battlefield und...   \n",
       "\n",
       "  originalType otherFaceIds power printings  promoTypes rarity  \\\n",
       "0     Vanguard          NaN   NaN      PMOA         NaN   rare   \n",
       "1     Vanguard          NaN   NaN      PMOA         NaN   rare   \n",
       "2     Vanguard          NaN   NaN      PMOA         NaN   rare   \n",
       "3     Vanguard          NaN   NaN      PMOA         NaN   rare   \n",
       "4     Vanguard          NaN   NaN      PMOA         NaN   rare   \n",
       "\n",
       "  rebalancedPrintings relatedCards securityStamp setCode side signature  \\\n",
       "0                 NaN          NaN           NaN    PMOA  NaN       NaN   \n",
       "1                 NaN          NaN           NaN    PMOA  NaN       NaN   \n",
       "2                 NaN          NaN           NaN    PMOA  NaN       NaN   \n",
       "3                 NaN          NaN           NaN    PMOA  NaN       NaN   \n",
       "4                 NaN          NaN           NaN    PMOA  NaN       NaN   \n",
       "\n",
       "  sourceProducts subsets subtypes supertypes  \\\n",
       "0            NaN     NaN      NaN        NaN   \n",
       "1            NaN     NaN      NaN        NaN   \n",
       "2            NaN     NaN      NaN        NaN   \n",
       "3            NaN     NaN      NaN        NaN   \n",
       "4            NaN     NaN      NaN        NaN   \n",
       "\n",
       "                                                text toughness      type  \\\n",
       "0  Whenever you cast a creature spell, you may pa...       NaN  Vanguard   \n",
       "1  Whenever a creature you control dies, target o...       NaN  Vanguard   \n",
       "2  Whenever a nontoken creature you control enter...       NaN  Vanguard   \n",
       "3  Pay 1 life: Until end of turn, whenever a crea...       NaN  Vanguard   \n",
       "4  Whenever a creature you control enters, it gai...       NaN  Vanguard   \n",
       "\n",
       "      types variations watermark  \n",
       "0  Vanguard        NaN       NaN  \n",
       "1  Vanguard        NaN       NaN  \n",
       "2  Vanguard        NaN       NaN  \n",
       "3  Vanguard        NaN       NaN  \n",
       "4  Vanguard        NaN       NaN  \n",
       "\n",
       "[5 rows x 86 columns]"
      ]
     },
     "execution_count": 13,
     "metadata": {},
     "output_type": "execute_result"
    }
   ],
   "source": [
    "merged_df.head(5)"
   ]
  },
  {
   "cell_type": "markdown",
   "id": "c2d19a92",
   "metadata": {},
   "source": [
    "\n",
    "# 3 Data Preparation\n",
    "\n",
    "Now i got a bit more of a understanding for the Data im checking for i definetely need to remove missing values or check remove errors from the merging, <br>\n",
    "ive already checked it i nthe data understanding part right above and see no missing values so i only check for duplicates \n",
    "sinced the data set is from a profesasional source its flawless so far"
   ]
  },
  {
   "cell_type": "code",
   "execution_count": 35,
   "id": "00b4866d",
   "metadata": {},
   "outputs": [
    {
     "name": "stdout",
     "output_type": "stream",
     "text": [
      "0\n"
     ]
    }
   ],
   "source": [
    "print(merged_df.duplicated().sum())"
   ]
  },
  {
   "cell_type": "markdown",
   "id": "65538f55",
   "metadata": {},
   "source": [
    "# 4. Modeling\n",
    "\n",
    "The data is prepared, i now need some insights i can share on the data, for example is the price dempendantr on color, are there more cards of type a then there is of type b and more. <br>\n",
    "i will gain some basic insights this way\n"
   ]
  },
  {
   "cell_type": "markdown",
   "id": "d5c37882",
   "metadata": {},
   "source": [
    "## Question 1\n",
    "How many type of cards do exist and are they unique"
   ]
  },
  {
   "cell_type": "code",
   "execution_count": 14,
   "id": "57628d3c-187e-426f-8020-566eb8e7e03d",
   "metadata": {},
   "outputs": [
    {
     "data": {
      "image/png": "[encoded data removed]",
      "text/plain": [
       "<Figure size 1000x600 with 1 Axes>"
      ]
     },
     "metadata": {},
     "output_type": "display_data"
    }
   ],
   "source": [
    "color_counts = merged_df[\"colors\"].value_counts()\n",
    "\n",
    "# Plot the data\n",
    "plt.figure(figsize=(10, 6))\n",
    "sns.barplot(x=color_counts.index, y=color_counts.values, palette=\"viridis\")\n",
    "\n",
    "# Customize plot\n",
    "plt.xlabel(\"Colors\")\n",
    "plt.ylabel(\"Count\")\n",
    "plt.title(\"Count of Cards by Color\")\n",
    "plt.xticks(rotation=45)  # Rotate x-axis labels if needed\n",
    "plt.show()"
   ]
  },
  {
   "cell_type": "code",
   "execution_count": 36,
   "id": "937a6287",
   "metadata": {},
   "outputs": [
    {
     "data": {
      "image/png": "[encoded data removed]",
      "text/plain": [
       "<Figure size 1000x600 with 1 Axes>"
      ]
     },
     "metadata": {},
     "output_type": "display_data"
    }
   ],
   "source": [
    "# Zähle die Anzahl der Karten pro Seltenheit (rarity)\n",
    "rarity_counts = merged_df[\"rarity\"].value_counts()\n",
    "\n",
    "# Balkendiagramm erstellen\n",
    "plt.figure(figsize=(10, 6))\n",
    "sns.barplot(x=rarity_counts.index, y=rarity_counts.values, palette=\"muted\")\n",
    "\n",
    "# Achsenbeschriftungen & Titel\n",
    "plt.xlabel(\"Rarity\")\n",
    "plt.ylabel(\"Count of Cards\")\n",
    "plt.title(\"Number of Cards by Rarity\")\n",
    "plt.xticks(rotation=45)  # Falls nötig, Labels drehen\n",
    "\n",
    "plt.show()"
   ]
  },
  {
   "cell_type": "code",
   "execution_count": 15,
   "id": "5e314d3c-2c80-40ed-9939-9543ac683eba",
   "metadata": {},
   "outputs": [
    {
     "data": {
      "image/png": "[encoded data removed]",
      "text/plain": [
       "<Figure size 1000x600 with 1 Axes>"
      ]
     },
     "metadata": {},
     "output_type": "display_data"
    }
   ],
   "source": [
    "# Ensure price column is numeric\n",
    "merged_df[\"price\"] = pd.to_numeric(merged_df[\"price\"], errors=\"coerce\")\n",
    "\n",
    "# If colors are stored as lists, explode them\n",
    "merged_df_exploded = merged_df.explode(\"colors\")\n",
    "\n",
    "# Calculate the average price per color\n",
    "avg_price_per_color = merged_df_exploded.groupby(\"colors\")[\"price\"].mean().dropna()\n",
    "\n",
    "# Plot the data\n",
    "plt.figure(figsize=(10, 6))\n",
    "sns.barplot(x=avg_price_per_color.index, y=avg_price_per_color.values, palette=\"coolwarm\")\n",
    "\n",
    "# Customize plot\n",
    "plt.xlabel(\"Colors\")\n",
    "plt.ylabel(\"Average Price\")\n",
    "plt.title(\"Average Price of Cards by Color\")\n",
    "plt.xticks(rotation=45)\n",
    "plt.show()"
   ]
  },
  {
   "cell_type": "code",
   "execution_count": null,
   "id": "85211e6f",
   "metadata": {},
   "outputs": [],
   "source": []
  },
  {
   "cell_type": "markdown",
   "id": "c23824f6",
   "metadata": {},
   "source": [
    "Looks like the rds are Rare followed by common and uncommon, this suprised me since rare is the middle rarity and it still hast the molst cards, which might explain the costs since its rising <br>\n",
    "also the most common color combination seems to be B,G,U which i need to keep in mind that there are combined color carts for the later Machine learning so it doesnt just print ouit the first value"
   ]
  },
  {
   "cell_type": "markdown",
   "id": "2d504c32",
   "metadata": {},
   "source": [
    "# Question 2\n",
    "Does it matter when the cards came out does it increase prices?\n",
    "are there multiple versions on different years i need to prepare the data for (no there are no duplicates this is dealt with)"
   ]
  },
  {
   "cell_type": "code",
   "execution_count": 16,
   "id": "15337bc5-e1b6-4472-9af6-818ec3235f01",
   "metadata": {},
   "outputs": [
    {
     "data": {
      "image/png": "[encoded data removed]",
      "text/plain": [
       "<Figure size 1200x600 with 1 Axes>"
      ]
     },
     "metadata": {},
     "output_type": "display_data"
    }
   ],
   "source": [
    "# Convert frameVersion to numeric (force errors to NaN)\n",
    "merged_df[\"frameVersion\"] = pd.to_numeric(merged_df[\"frameVersion\"], errors=\"coerce\")\n",
    "\n",
    "# Drop NaN values (if there are invalid years)\n",
    "merged_df_cleaned = merged_df.dropna(subset=[\"frameVersion\"])\n",
    "\n",
    "# Convert to integer (optional, if all values are now valid years)\n",
    "merged_df_cleaned[\"frameVersion\"] = merged_df_cleaned[\"frameVersion\"].astype(int)\n",
    "\n",
    "# Count occurrences of each frameVersion (year)\n",
    "frame_counts = merged_df_cleaned[\"frameVersion\"].value_counts().sort_index()\n",
    "\n",
    "# Plot the data\n",
    "plt.figure(figsize=(12, 6))\n",
    "sns.barplot(x=frame_counts.index, y=frame_counts.values, palette=\"magma\")\n",
    "\n",
    "# Customize plot\n",
    "plt.xlabel(\"Frame Version (Year)\")\n",
    "plt.ylabel(\"Count of Cards\")\n",
    "plt.title(\"Number of Cards by Frame Version (Year)\")\n",
    "plt.xticks(rotation=45)  # Rotate labels if necessary\n",
    "plt.show()"
   ]
  },
  {
   "cell_type": "code",
   "execution_count": 17,
   "id": "6ccb2065-4ee9-4343-bbb0-80fe8bb5e8ca",
   "metadata": {},
   "outputs": [
    {
     "data": {
      "image/png": "[encoded data removed]",
      "text/plain": [
       "<Figure size 1200x600 with 1 Axes>"
      ]
     },
     "metadata": {},
     "output_type": "display_data"
    }
   ],
   "source": [
    "\n",
    "# Sicherstellen, dass \"frameVersion\" numerisch ist\n",
    "merged_df[\"frameVersion\"] = pd.to_numeric(merged_df[\"frameVersion\"], errors=\"coerce\")\n",
    "\n",
    "# Sicherstellen, dass \"price\" numerisch ist\n",
    "merged_df[\"price\"] = pd.to_numeric(merged_df[\"price\"], errors=\"coerce\")\n",
    "\n",
    "# Ungültige Werte entfernen (NaN-Werte droppen)\n",
    "merged_df_cleaned = merged_df.dropna(subset=[\"frameVersion\", \"price\"])\n",
    "\n",
    "# Durchschnittspreis pro Jahr berechnen\n",
    "avg_price_per_year = merged_df_cleaned.groupby(\"frameVersion\")[\"price\"].mean()\n",
    "\n",
    "# Plot erstellen\n",
    "plt.figure(figsize=(12, 6))\n",
    "sns.lineplot(x=avg_price_per_year.index, y=avg_price_per_year.values, marker=\"o\", color=\"b\")\n",
    "\n",
    "# Plot anpassen\n",
    "plt.xlabel(\"Frame Version (Year)\")\n",
    "plt.ylabel(\"Average Price\")\n",
    "plt.title(\"Average Card Price by Frame Version (Year)\")\n",
    "plt.xticks(rotation=45)  # Falls Jahre unleserlich sind, leicht drehen\n",
    "plt.grid(True)\n",
    "\n",
    "plt.show()"
   ]
  },
  {
   "cell_type": "markdown",
   "id": "a22613b0",
   "metadata": {},
   "source": [
    "It seems older cards are more expensive, that was kinda obvious since the older the less were printed and even less are still available <br>\n",
    "commonly old cards were either weak or incredible strong in comparisson to today"
   ]
  },
  {
   "cell_type": "markdown",
   "id": "daf12908",
   "metadata": {},
   "source": [
    "# Question 3\n",
    "Do rarity types matter in this data set?"
   ]
  },
  {
   "cell_type": "code",
   "execution_count": null,
   "id": "3c03b52d-6f3c-4ef3-898c-eb4fbbd9b2f2",
   "metadata": {},
   "outputs": [
    {
     "data": {
      "image/png": "[encoded data removed]",
      "text/plain": [
       "<Figure size 1000x600 with 1 Axes>"
      ]
     },
     "metadata": {},
     "output_type": "display_data"
    }
   ],
   "source": [
    "# Zähle die Anzahl der Karten pro Seltenheit (rarity)\n",
    "rarity_counts = merged_df[\"rarity\"].value_counts()\n",
    "\n",
    "# Balkendiagramm erstellen\n",
    "plt.figure(figsize=(10, 6))\n",
    "sns.barplot(x=rarity_counts.index, y=rarity_counts.values, palette=\"muted\")\n",
    "\n",
    "# Achsenbeschriftungen & Titel\n",
    "plt.xlabel(\"Rarity\")\n",
    "plt.ylabel(\"Count of Cards\")\n",
    "plt.title(\"Number of Cards by Rarity\")\n",
    "plt.xticks(rotation=45)  # Falls nötig, Labels drehen\n",
    "\n",
    "plt.show()"
   ]
  },
  {
   "cell_type": "code",
   "execution_count": 19,
   "id": "7a51bab1-7a6a-4b01-b899-acdef2244218",
   "metadata": {},
   "outputs": [
    {
     "data": {
      "image/png": "[encoded data removed]",
      "text/plain": [
       "<Figure size 1000x600 with 1 Axes>"
      ]
     },
     "metadata": {},
     "output_type": "display_data"
    }
   ],
   "source": [
    "# Sicherstellen, dass \"price\" numerisch ist\n",
    "merged_df[\"price\"] = pd.to_numeric(merged_df[\"price\"], errors=\"coerce\")\n",
    "\n",
    "# Ungültige Werte entfernen (NaN-Werte droppen)\n",
    "merged_df_cleaned = merged_df.dropna(subset=[\"rarity\", \"price\"])\n",
    "\n",
    "# Durchschnittspreis pro Seltenheit berechnen\n",
    "avg_price_per_rarity = merged_df_cleaned.groupby(\"rarity\")[\"price\"].mean()\n",
    "\n",
    "# Balkendiagramm erstellen\n",
    "plt.figure(figsize=(10, 6))\n",
    "sns.barplot(x=avg_price_per_rarity.index, y=avg_price_per_rarity.values, palette=\"Blues_d\")\n",
    "\n",
    "# Achsenbeschriftungen & Titel\n",
    "plt.xlabel(\"Rarity\")\n",
    "plt.ylabel(\"Average Price\")\n",
    "plt.title(\"Average Card Price by Rarity\")\n",
    "plt.xticks(rotation=45)  # Falls nötig, Labels drehen\n",
    "\n",
    "plt.show()"
   ]
  },
  {
   "cell_type": "markdown",
   "id": "f4d7ab7a",
   "metadata": {},
   "source": [
    "they definetely do so its clear the prices are based on this, i definetely have to secure the prices part is 100% accurate in my model since its an important factor that could cause damages"
   ]
  },
  {
   "cell_type": "markdown",
   "id": "26cad5b8",
   "metadata": {},
   "source": [
    "# 5 Evaluation – Which model best meets the business objectives?\n",
    "\n",
    "Ive looked over everything i have and started with: <br>\n",
    "\n",
    "## SentenceTransformer:\n",
    "\n",
    "    Captures the meaning of sentences and handles grammar issues, mixed cases, and phrasing variations.\n",
    "    Other methods like TF-IDF and Bag of Words don’t understand context, so they miss the meaning behind similar sentences.\n",
    "\n",
    "<br><br>\n",
    "I also check other algorithms like:\n",
    "<br><br>\n",
    "KNN Classifier<br>\n",
    "Decision Trees<br>\n",
    "Neural Networks<br>\n",
    "<br><br>\n",
    "Reasoning:<br>\n",
    "    SVMs need heavy feature engineering and don’t handle the semantic meaning of sentences well. They also struggle with noisy or inconsistent input, which makes them less ideal compared to SentenceTransformer’s ability to understand context directly. <br>\n",
    "    Decision Trees require structured data and work best with clear features. They wouldn’t handle sentence-level data effectively and would need additional steps to deal with unstructured text, making them less efficient for this task.<br>\n",
    "    Neural Networks require a lot of data and computational power to train. They’re also prone to overfitting on smaller datasets, and they are slower during training and inference compared to SentenceTransformer + KNN, which is quicker and simpler to deploy.<br>\n",
    "<br>\n",
    "also i needed to think about what data types i have and not forget this, else the website could crash when a specific type of card would be called upon, for example Decision Trees rely heavily on clear, <br>\n",
    "structured features. If the data consists of categorical values like \"B, G, U\" \n",
    "<br>\n",
    "\n",
    "\n",
    "<br><br>\n",
    "im still a beginner so i chose the best path to go with SentenceTransformer for easy, quick and accurate data"
   ]
  },
  {
   "cell_type": "markdown",
   "id": "ade1fb4c",
   "metadata": {},
   "source": [
    "# Machine Learning Part"
   ]
  },
  {
   "cell_type": "markdown",
   "id": "f54e46fd",
   "metadata": {},
   "source": [
    "### Decision Tree"
   ]
  },
  {
   "cell_type": "code",
   "execution_count": 40,
   "id": "a86fa872",
   "metadata": {},
   "outputs": [
    {
     "name": "stdout",
     "output_type": "stream",
     "text": [
      "Loaded 1000 questions and answers.\n",
      "Decision Tree Model has been trained and saved as 'question_model_tree.pkl'.\n",
      "Predicted answer: 9\n"
     ]
    }
   ],
   "source": [
    "import pickle\n",
    "import json\n",
    "import numpy as np\n",
    "from sentence_transformers import SentenceTransformer\n",
    "from sklearn.tree import DecisionTreeClassifier\n",
    "\n",
    "# Lade das vortrainierte Sprachmodell\n",
    "sentence_model = SentenceTransformer(\"all-MiniLM-L6-v2\")\n",
    "\n",
    "# Lade die Fragen und Antworten aus der JSON-Datei\n",
    "with open(\"questions.json\", \"r\", encoding=\"utf-8\") as file:\n",
    "    data = json.load(file)\n",
    "    questions = data[\"questions\"]\n",
    "    answers = data[\"answers\"]\n",
    "\n",
    "print(f\"Loaded {len(questions)} questions and answers.\")\n",
    "\n",
    "# Konvertiere Fragen in Satz-Embeddings\n",
    "question_embeddings = sentence_model.encode(questions)\n",
    "\n",
    "# Trainiere den Decision Tree Classifier\n",
    "clf = DecisionTreeClassifier()\n",
    "clf.fit(question_embeddings, answers)\n",
    "\n",
    "# Speichere das trainierte Modell\n",
    "with open(\"question_model_tree.pkl\", \"wb\") as model_file:\n",
    "    pickle.dump((sentence_model, clf), model_file)\n",
    "\n",
    "print(\"Decision Tree Model has been trained and saved as 'question_model_tree.pkl'.\")\n",
    "\n",
    "# Funktion zur Vorhersage von Antworten\n",
    "def predict_answer_tree(question):\n",
    "    # Frage in ein Embedding umwandeln\n",
    "    question_embedding = sentence_model.encode([question])\n",
    "    \n",
    "    # Vorhersage treffen\n",
    "    predicted_answer = clf.predict(question_embedding)\n",
    "    \n",
    "    return predicted_answer[0]\n",
    "\n",
    "# Beispielnutzung\n",
    "user_question = \"angel of mercy cost mana\"\n",
    "print(f\"Predicted answer: {predict_answer_tree(user_question)}\")\n"
   ]
  },
  {
   "cell_type": "code",
   "execution_count": 42,
   "id": "694ffc54",
   "metadata": {},
   "outputs": [
    {
     "name": "stdout",
     "output_type": "stream",
     "text": [
      "(SentenceTransformer(\n",
      "  (0): Transformer({'max_seq_length': 256, 'do_lower_case': False}) with Transformer model: BertModel \n",
      "  (1): Pooling({'word_embedding_dimension': 384, 'pooling_mode_cls_token': False, 'pooling_mode_mean_tokens': True, 'pooling_mode_max_tokens': False, 'pooling_mode_mean_sqrt_len_tokens': False, 'pooling_mode_weightedmean_tokens': False, 'pooling_mode_lasttoken': False, 'include_prompt': True})\n",
      "  (2): Normalize()\n",
      "), KNeighborsClassifier(metric='cosine', n_neighbors=3))\n"
     ]
    }
   ],
   "source": [
    "import pickle\n",
    "\n",
    "# Replace 'your_model.pkl' with the path to your .pkl file\n",
    "with open('question_model.pkl', 'rb') as file:\n",
    "    model = pickle.load(file)\n",
    "print(model)"
   ]
  },
  {
   "cell_type": "code",
   "execution_count": 56,
   "id": "0834156e",
   "metadata": {},
   "outputs": [
    {
     "name": "stdout",
     "output_type": "stream",
     "text": [
      "Predicted answer: Whats the mana cost of angel of mercy \n",
      "Predicted answer: cost mana angel of mercy \n",
      "Predicted answer: price mana angel of mecy \n"
     ]
    }
   ],
   "source": [
    "user_question2 = \"Whats the mana cost of angel of mercy \"\n",
    "print(f\"Predicted answer: {(user_question2)}\")\n",
    "\n",
    "user_question2 = \"cost mana angel of mercy \"\n",
    "print(f\"Predicted answer: {(user_question2)}\")\n",
    "\n",
    "user_question3 = \"price mana angel of mecy \"\n",
    "print(f\"Predicted answer: {(user_question3)}\")"
   ]
  },
  {
   "cell_type": "markdown",
   "id": "c580c603",
   "metadata": {},
   "source": [
    "## Comment\n",
    "This approach is not suited at all, the predicted value it printed out was 9, but the card has  a 5 value <br>\n",
    "next approach: Linear Model"
   ]
  },
  {
   "cell_type": "code",
   "execution_count": 43,
   "id": "853d689e",
   "metadata": {},
   "outputs": [
    {
     "name": "stdout",
     "output_type": "stream",
     "text": [
      "Loaded 1000 questions and answers.\n",
      "Logistic Regression Model has been trained and saved as 'question_model_logistic.pkl'.\n",
      "Predicted answer: mtgo, paper\n"
     ]
    }
   ],
   "source": [
    "import pickle\n",
    "import json\n",
    "import numpy as np\n",
    "from sentence_transformers import SentenceTransformer\n",
    "from sklearn.linear_model import LogisticRegression\n",
    "\n",
    "# Lade das vortrainierte Sprachmodell\n",
    "sentence_model = SentenceTransformer(\"all-MiniLM-L6-v2\")\n",
    "\n",
    "# Lade die Fragen und Antworten aus der JSON-Datei\n",
    "with open(\"questions.json\", \"r\", encoding=\"utf-8\") as file:\n",
    "    data = json.load(file)\n",
    "    questions = data[\"questions\"]\n",
    "    answers = data[\"answers\"]\n",
    "\n",
    "print(f\"Loaded {len(questions)} questions and answers.\")\n",
    "\n",
    "# Konvertiere Fragen in Satz-Embeddings\n",
    "question_embeddings = sentence_model.encode(questions)\n",
    "\n",
    "# Trainiere das Lineare Modell (Logistic Regression)\n",
    "clf = LogisticRegression(max_iter=200)\n",
    "clf.fit(question_embeddings, answers)\n",
    "\n",
    "# Speichere das trainierte Modell\n",
    "with open(\"question_model_logistic.pkl\", \"wb\") as model_file:\n",
    "    pickle.dump((sentence_model, clf), model_file)\n",
    "\n",
    "print(\"Logistic Regression Model has been trained and saved as 'question_model_logistic.pkl'.\")\n",
    "\n",
    "# Funktion zur Vorhersage von Antworten\n",
    "def predict_answer_logistic(question):\n",
    "    # Frage in ein Embedding umwandeln\n",
    "    question_embedding = sentence_model.encode([question])\n",
    "    \n",
    "    # Vorhersage treffen\n",
    "    predicted_answer = clf.predict(question_embedding)\n",
    "    \n",
    "    return predicted_answer[0]\n",
    "\n",
    "# Beispielnutzung\n",
    "user_question = \"angel of mercy cost mana\"\n",
    "print(f\"Predicted answer: {predict_answer_logistic(user_question)}\")\n"
   ]
  },
  {
   "cell_type": "code",
   "execution_count": 45,
   "id": "5396b233",
   "metadata": {},
   "outputs": [
    {
     "name": "stdout",
     "output_type": "stream",
     "text": [
      "(SentenceTransformer(\n",
      "  (0): Transformer({'max_seq_length': 256, 'do_lower_case': False}) with Transformer model: BertModel \n",
      "  (1): Pooling({'word_embedding_dimension': 384, 'pooling_mode_cls_token': False, 'pooling_mode_mean_tokens': True, 'pooling_mode_max_tokens': False, 'pooling_mode_mean_sqrt_len_tokens': False, 'pooling_mode_weightedmean_tokens': False, 'pooling_mode_lasttoken': False, 'include_prompt': True})\n",
      "  (2): Normalize()\n",
      "), KNeighborsClassifier(metric='cosine', n_neighbors=3))\n"
     ]
    }
   ],
   "source": [
    "import pickle\n",
    "\n",
    "# Replace 'your_model.pkl' with the path to your .pkl file\n",
    "with open('question_model.pkl', 'rb') as file:\n",
    "    model = pickle.load(file)\n",
    "    print(model)"
   ]
  },
  {
   "cell_type": "code",
   "execution_count": 55,
   "id": "e571c403",
   "metadata": {},
   "outputs": [
    {
     "name": "stdout",
     "output_type": "stream",
     "text": [
      "Predicted answer: Whats the mana cost of angel of mercy \n",
      "Predicted answer: cost mana angel of mercy \n",
      "Predicted answer: price mana angel of mecy \n"
     ]
    }
   ],
   "source": [
    "user_question2 = \"Whats the mana cost of angel of mercy \"\n",
    "print(f\"Predicted answer: {(user_question2)}\")\n",
    "\n",
    "user_question2 = \"cost mana angel of mercy \"\n",
    "print(f\"Predicted answer: {(user_question2)}\")\n",
    "\n",
    "user_question3 = \"price mana angel of mecy \"\n",
    "print(f\"Predicted answer: {(user_question3)}\")"
   ]
  },
  {
   "cell_type": "markdown",
   "id": "4394c6cb",
   "metadata": {},
   "source": [
    "# Comment\n",
    "This one is even worse its output is mtgo, paper which is a completely different value inside the dataset and is not remotely precise enough<br>\n",
    "next approach: sentenceTransformer (final Result)"
   ]
  },
  {
   "cell_type": "code",
   "execution_count": 46,
   "id": "e5c1d86d-4e4c-4a4a-9116-6e2bdc88c19c",
   "metadata": {},
   "outputs": [
    {
     "name": "stdout",
     "output_type": "stream",
     "text": [
      "Loaded 1000 questions and answers.\n",
      "Model has been trained and saved as 'question_model.pkl'.\n",
      "Predicted answer: 5.0\n"
     ]
    }
   ],
   "source": [
    "import pickle\n",
    "import json\n",
    "import numpy as np\n",
    "from sentence_transformers import SentenceTransformer\n",
    "from sklearn.neighbors import KNeighborsClassifier\n",
    "\n",
    "# Load a pre-trained language model that understands sentence meaning\n",
    "sentence_model = SentenceTransformer(\"all-MiniLM-L6-v2\")\n",
    "\n",
    "# Load the questions and answers from the JSON file\n",
    "with open(\"questions.json\", \"r\", encoding=\"utf-8\") as file:\n",
    "    data = json.load(file)\n",
    "    questions = data[\"questions\"]\n",
    "    answers = data[\"answers\"]\n",
    "\n",
    "print(f\"Loaded {len(questions)} questions and answers.\")\n",
    "\n",
    "# Convert questions into sentence embeddings\n",
    "question_embeddings = sentence_model.encode(questions)\n",
    "\n",
    "# Train a KNN classifier on the embeddings\n",
    "clf = KNeighborsClassifier(n_neighbors=3, metric=\"cosine\")\n",
    "clf.fit(question_embeddings, answers)\n",
    "\n",
    "# Save the trained model\n",
    "with open(\"question_model.pkl\", \"wb\") as model_file:\n",
    "    pickle.dump((sentence_model, clf), model_file)\n",
    "\n",
    "print(\"Model has been trained and saved as 'question_model.pkl'.\")\n",
    "\n",
    "# Function to predict answers\n",
    "def predict_answer(question):\n",
    "    # Convert the input question to an embedding\n",
    "    question_embedding = sentence_model.encode([question])\n",
    "    \n",
    "    # Get the closest match\n",
    "    distances, indices = clf.kneighbors(question_embedding, n_neighbors=1)\n",
    "    \n",
    "    # If the best match is too far, return a fallback response\n",
    "    if distances[0][0] > 0.5:  # Adjust threshold as needed\n",
    "        return \"I don't know this yet.\"\n",
    "    \n",
    "    return answers[indices[0][0]]\n",
    "\n",
    "# Example usage\n",
    "user_question = \"angel of mercy cost mana\"\n",
    "print(f\"Predicted answer: {predict_answer(user_question)}\")\n"
   ]
  },
  {
   "cell_type": "code",
   "execution_count": 38,
   "id": "cff3f3cb",
   "metadata": {},
   "outputs": [],
   "source": [
    "import pickle\n",
    "\n",
    "# Replace 'your_model.pkl' with the path to your .pkl file\n",
    "with open('question_model.pkl', 'rb') as file:\n",
    "    model = pickle.load(file)"
   ]
  },
  {
   "cell_type": "code",
   "execution_count": 57,
   "id": "4dc58589",
   "metadata": {},
   "outputs": [
    {
     "name": "stdout",
     "output_type": "stream",
     "text": [
      "Predicted answer: Whats the mana cost of angel of mercy \n",
      "Predicted answer: cost mana angel of mercy \n",
      "Predicted answer: price mana angel of mecy \n"
     ]
    }
   ],
   "source": [
    "user_question2 = \"Whats the mana cost of angel of mercy \"\n",
    "print(f\"Predicted answer: {(user_question2)}\")\n",
    "\n",
    "user_question2 = \"cost mana angel of mercy \"\n",
    "print(f\"Predicted answer: {(user_question2)}\")\n",
    "\n",
    "user_question3 = \"price mana angel of mecy \"\n",
    "print(f\"Predicted answer: {(user_question3)}\")"
   ]
  },
  {
   "cell_type": "markdown",
   "id": "39babc24",
   "metadata": {},
   "source": [
    "#Comment\n",
    "Thats the exact answer i was wanting to get, i also tested it with additional questions and it seemed fine <br>\n",
    "my next step is to limittest it now withj bad grammar or changing the sentence\n"
   ]
  },
  {
   "cell_type": "code",
   "execution_count": 54,
   "id": "027a1236",
   "metadata": {},
   "outputs": [
    {
     "name": "stdout",
     "output_type": "stream",
     "text": [
      "Predicted answer: 5.0\n"
     ]
    }
   ],
   "source": [
    "user_question2 = \"cost mana angel of mercy \"\n",
    "print(f\"Predicted answer: {predict_answer(user_question2)}\")"
   ]
  },
  {
   "cell_type": "code",
   "execution_count": 49,
   "id": "40442426",
   "metadata": {},
   "outputs": [
    {
     "name": "stdout",
     "output_type": "stream",
     "text": [
      "Predicted answer: 5.0\n"
     ]
    }
   ],
   "source": [
    "user_question2 = \"price mana angel of mercy \"\n",
    "print(f\"Predicted answer: {predict_answer(user_question2)}\")"
   ]
  },
  {
   "cell_type": "code",
   "execution_count": 50,
   "id": "8638b2ce",
   "metadata": {},
   "outputs": [
    {
     "name": "stdout",
     "output_type": "stream",
     "text": [
      "Predicted answer: I don't know this yet.\n"
     ]
    }
   ],
   "source": [
    "user_question2 = \"price mana angel of mecy \"\n",
    "print(f\"Predicted answer: {predict_answer(user_question2)}\")"
   ]
  },
  {
   "cell_type": "markdown",
   "id": "bd75dfa8",
   "metadata": {},
   "source": [
    "# Comment\n",
    "This was important for me, rather than false information if the card is really not found its saying \"i dont know this yet\" instead of fooling the user <br>\n",
    "but i want to try makeing the ML Programm trying to improvise if it doesnt know something (i will put a desclaimer tho to not cause damages)"
   ]
  },
  {
   "cell_type": "markdown",
   "id": "7c2a20b6",
   "metadata": {},
   "source": []
  },
  {
   "cell_type": "code",
   "execution_count": 51,
   "id": "83604fd9",
   "metadata": {},
   "outputs": [
    {
     "name": "stdout",
     "output_type": "stream",
     "text": [
      "Loaded 1000 questions and answers.\n",
      "Model has been trained and saved as 'question_model.pkl'.\n",
      "Predicted answer: 5.0\n"
     ]
    }
   ],
   "source": [
    "import pickle\n",
    "import json\n",
    "import numpy as np\n",
    "from sentence_transformers import SentenceTransformer\n",
    "from sklearn.neighbors import KNeighborsClassifier\n",
    "\n",
    "# Load a pre-trained language model that understands sentence meaning\n",
    "sentence_model = SentenceTransformer(\"all-MiniLM-L6-v2\")\n",
    "\n",
    "# Load the questions and answers from the JSON file\n",
    "with open(\"questions.json\", \"r\", encoding=\"utf-8\") as file:\n",
    "    data = json.load(file)\n",
    "    questions = data[\"questions\"]\n",
    "    answers = data[\"answers\"]\n",
    "\n",
    "print(f\"Loaded {len(questions)} questions and answers.\")\n",
    "\n",
    "# Convert questions into sentence embeddings\n",
    "question_embeddings = sentence_model.encode(questions)\n",
    "\n",
    "# Train a KNN classifier on the embeddings\n",
    "clf = KNeighborsClassifier(n_neighbors=3, metric=\"cosine\")\n",
    "clf.fit(question_embeddings, answers)\n",
    "\n",
    "# Save the trained model\n",
    "with open(\"question_model.pkl\", \"wb\") as model_file:\n",
    "    pickle.dump((sentence_model, clf), model_file)\n",
    "\n",
    "print(\"Model has been trained and saved as 'question_model.pkl'.\")\n",
    "\n",
    "# Function to predict answers\n",
    "def predict_answer(question):\n",
    "    # Convert the input question to an embedding\n",
    "    question_embedding = sentence_model.encode([question])\n",
    "    \n",
    "    # Get the closest match\n",
    "    distances, indices = clf.kneighbors(question_embedding, n_neighbors=3)\n",
    "    \n",
    "    # If the best match is too far, return a fallback response\n",
    "    if distances[0][0] > 0.5:  # Adjust threshold as needed\n",
    "        # Try to improvise by checking the next best matches\n",
    "        improvise_answer = \"I'm not entirely sure, but here's something related:\"\n",
    "        related_answers = [answers[i] for i in indices[0]]\n",
    "        improvise_answer += \" \" + \", \".join(related_answers)\n",
    "        return improvise_answer\n",
    "    \n",
    "    return answers[indices[0][0]]\n",
    "\n",
    "# Example usage\n",
    "user_question = \"angel of mercy cost mana\"\n",
    "print(f\"Predicted answer: {predict_answer(user_question)}\")\n"
   ]
  },
  {
   "cell_type": "code",
   "execution_count": 52,
   "id": "7ebd5e31",
   "metadata": {},
   "outputs": [
    {
     "name": "stdout",
     "output_type": "stream",
     "text": [
      "Predicted answer: I'm not entirely sure, but here's something related: 5.0, 5.0, 3.0\n"
     ]
    }
   ],
   "source": [
    "user_question2 = \"price mana angel of mecy \"\n",
    "print(f\"Predicted answer: {predict_answer(user_question2)}\")"
   ]
  },
  {
   "cell_type": "markdown",
   "id": "0551e297",
   "metadata": {},
   "source": [
    "Toghether with this disclaimer i can actually make this card do predictions, since the cards often have similar names its hard, there are propably hundreds of angels of \"ABC\" <br>\n",
    "but i will go with this Version for now\n"
   ]
  },
  {
   "cell_type": "markdown",
   "id": "b1ac1436",
   "metadata": {},
   "source": []
  }
 ],
 "metadata": {
  "kernelspec": {
   "display_name": "Python 3",
   "language": "python",
   "name": "python3"
  },
  "language_info": {
   "codemirror_mode": {
    "name": "ipython",
    "version": 3
   },
   "file_extension": ".py",
   "mimetype": "text/x-python",
   "name": "python",
   "nbconvert_exporter": "python",
   "pygments_lexer": "ipython3",
   "version": "3.11.0"
  }
 },
 "nbformat": 4,
 "nbformat_minor": 5
}
